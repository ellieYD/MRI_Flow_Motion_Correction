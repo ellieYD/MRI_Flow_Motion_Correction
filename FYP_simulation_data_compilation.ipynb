{
 "cells": [
  {
   "cell_type": "markdown",
   "id": "0a934058",
   "metadata": {},
   "source": [
    "## Code for data compilation"
   ]
  },
  {
   "cell_type": "markdown",
   "id": "fb0a4222",
   "metadata": {},
   "source": [
    "This file contains code:\n",
    "- to simulate in-and-out-of-plane periodic pulsatile flow motion in a Shepp-Logan phantom\n",
    "- for the designed sampling scheme across multiple frames, to be averaged to obtain image with minimal motion artefacts\n",
    "- to generate mean standard error (MSE) vs TR spacing graph"
   ]
  },
  {
   "cell_type": "code",
   "execution_count": 1,
   "id": "a58724d4",
   "metadata": {
    "tags": []
   },
   "outputs": [],
   "source": [
    "import numpy as np\n",
    "import sigpy as sp\n",
    "import matplotlib.pyplot as plt\n",
    "import ipywidgets as widgets\n",
    "from ipywidgets import interact, interactive\n",
    "from IPython.display import display\n",
    "from PIL import Image\n",
    "import csv\n",
    "import os"
   ]
  },
  {
   "cell_type": "markdown",
   "id": "934db24c",
   "metadata": {},
   "source": [
    "### 0. Functions"
   ]
  },
  {
   "cell_type": "code",
   "execution_count": 2,
   "id": "320ca967",
   "metadata": {
    "tags": []
   },
   "outputs": [],
   "source": [
    "def shift_2d_array(arr_in, rl_shift, ud_shift):\n",
    "#input: arr_in (input array), rl_shift (shift to right(+ve)/left(-ve) by how many pixels), ud_shift (shift upwards(+ve)/downwards(-ve) by how many pixels)\n",
    "    rows, cols = arr_in.shape #get array size\n",
    "    \n",
    "    shifted_array_vertical = np.roll(arr_in, ud_shift, axis=0) #vertical shift\n",
    "    \n",
    "    arr_out = np.roll(shifted_array_vertical, rl_shift, axis=1) #horizontal shift\n",
    "    \n",
    "    return np.array(arr_out, dtype = float)"
   ]
  },
  {
   "cell_type": "code",
   "execution_count": 3,
   "id": "63f65240",
   "metadata": {},
   "outputs": [],
   "source": [
    "def segment_image(img_in, lower_threshold, upper_threshold):\n",
    "    \n",
    "    lower_mask = (img_in >= lower_threshold).astype(np.uint8)\n",
    "    upper_mask = (img_in <= upper_threshold).astype(np.uint8)\n",
    "    \n",
    "    binary_mask = np.logical_and(lower_mask, upper_mask).astype(np.uint8) # Combine the masks to get the final binary mask\n",
    "    \n",
    "    segmented_image = img_in * binary_mask # Segment out the pixels with the specified intensity range\n",
    "    \n",
    "    non_segmented_image = img_in * (1 - binary_mask)  # Invert the binary mask to get the pixels outside the specified range\n",
    "    \n",
    "    return segmented_image, non_segmented_image, binary_mask"
   ]
  },
  {
   "cell_type": "code",
   "execution_count": 4,
   "id": "eab3c86c",
   "metadata": {},
   "outputs": [],
   "source": [
    "def get_phase_modulation(readout_num, TR, cardiac_cycle, phase_oscillation_amplitude):\n",
    "    t = readout_num * TR #time\n",
    "    \n",
    "    #------ sinusoidal model ------\n",
    "    \n",
    "#     phase_modulation = phase_oscillation_amplitude * np.sin(2 * np.pi / cardiac_cycle * t)\n",
    "    \n",
    "    #------ sinusoidal model ------\n",
    "    \n",
    "    #------ more realistic model ------\n",
    "    \n",
    "    phase_modulation = (64.5\n",
    "    - (5.154 * np.cos(2 * np.pi / cardiac_cycle * t) - 10.962 * np.sin(2 * np.pi / cardiac_cycle * t))\n",
    "    - (5.4516 * np.cos(2 * 2 * np.pi / cardiac_cycle * t) - 1.7574 * np.sin(2 * 2 * np.pi / cardiac_cycle * t))\n",
    "    - (1.731 * np.cos(3 * 2 * np.pi / cardiac_cycle * t) + 0.846 * np.sin(3 * 2 * np.pi / cardiac_cycle * t))\n",
    "    - (1.5684 * np.cos(4 * 2 * np.pi / cardiac_cycle * t) + 0.23976 * np.sin(4 * 2 * np.pi / cardiac_cycle * t))\n",
    "    - (0.50328 * np.cos(5 * 2 * np.pi / cardiac_cycle * t) + 1.0524 * np.sin(5 * 2 * np.pi / cardiac_cycle * t))\n",
    "    - (0.10014 * np.cos(6 * 2 * np.pi / cardiac_cycle * t) + 0.30504 * np.sin(6 * 2 * np.pi / cardiac_cycle * t))\n",
    "    - (0.035316 * np.cos(7 * 2 * np.pi / cardiac_cycle * t) + 0.3963 * np.sin(7 * 2 * np.pi / cardiac_cycle * t))\n",
    "    + (0.16248 * np.cos(8 * 2 * np.pi / cardiac_cycle * t) - 0.17118 * np.sin(8 * 2 * np.pi / cardiac_cycle * t))\n",
    "    )/33\n",
    "    \n",
    "    #------ more realistic model ------\n",
    "    \n",
    "    \n",
    "    \n",
    "    return phase_modulation"
   ]
  },
  {
   "cell_type": "code",
   "execution_count": 5,
   "id": "e8c115f1",
   "metadata": {},
   "outputs": [],
   "source": [
    "def get_modulated_kspace_line(segment_kspace_line_in, non_segment_kspace_line_in ,phase_modulation):\n",
    "    \n",
    "    segment_modulated_kspace_line = (segment_kspace_line_in * np.exp(1j * phase_modulation)).astype(np.complex128)\n",
    "    modulated_kspace_line = (segment_modulated_kspace_line + non_segment_kspace_line_in).astype(np.complex128)\n",
    "    return modulated_kspace_line.astype(np.complex128)"
   ]
  },
  {
   "cell_type": "code",
   "execution_count": 6,
   "id": "ea1eec94",
   "metadata": {},
   "outputs": [],
   "source": [
    "def get_mse(img1, img2):\n",
    "    if img1.shape == img2.shape:\n",
    "        img1 = img1\n",
    "        img2 = img2\n",
    "        mse_map = (img1 - img2) ** 2\n",
    "    else:\n",
    "        raise ValueError(\"Images must have the same dimensions\")\n",
    "    return mse_map"
   ]
  },
  {
   "cell_type": "code",
   "execution_count": 7,
   "id": "27d29f0d",
   "metadata": {},
   "outputs": [],
   "source": [
    "def quantify_artifacts(ground_truth, img_in):\n",
    "    \n",
    "    binary_mask = (ground_truth != 0).astype(np.uint8)\n",
    "    \n",
    "    gt_cumulative_intensity = np.sum(ground_truth) #cumulative intensity of ground truth\n",
    "    ip_cumulative_intensity = np.sum(img_in * binary_mask) #in place cumulative intensity of image\n",
    "    oop_cumulative_intensity = np.sum(img_in * (1 - binary_mask)) #out of place cumulative intensity of image\n",
    "    \n",
    "    ip_ratio = ip_cumulative_intensity/gt_cumulative_intensity\n",
    "    oop_ratio = oop_cumulative_intensity/gt_cumulative_intensity\n",
    "    \n",
    "    return ip_ratio, oop_ratio #in place and out of place ratio"
   ]
  },
  {
   "cell_type": "markdown",
   "id": "76b28dfa",
   "metadata": {},
   "source": [
    "### 1. Motion Simulation"
   ]
  },
  {
   "cell_type": "markdown",
   "id": "e703a7ba",
   "metadata": {},
   "source": [
    "3D stack of images, additional time scale, 20 frames of images in 1 cardiac cycle, sample sequencially in k-space, then do inverse fourier transform\n",
    "\n",
    "Displacement: sinusoidal approximation of motion"
   ]
  },
  {
   "cell_type": "markdown",
   "id": "7bff092d",
   "metadata": {},
   "source": [
    "#### 1.1 Segmentation"
   ]
  },
  {
   "cell_type": "markdown",
   "id": "6b0110dd",
   "metadata": {},
   "source": [
    "In this part, the Shepp Logan phantom will be segmented into 2 images, with the segmented pixels representing the ones that experience motion, and the rest with no motion."
   ]
  },
  {
   "cell_type": "code",
   "execution_count": 8,
   "id": "a8c31d91",
   "metadata": {},
   "outputs": [
    {
     "name": "stdout",
     "output_type": "stream",
     "text": [
      "[-5.55111512e-17  0.00000000e+00  2.00000000e-01  3.00000000e-01\n",
      "  1.00000000e+00]\n"
     ]
    }
   ],
   "source": [
    "original_img = sp.shepp_logan([256,256], float)\n",
    "print(np.unique(original_img))\n",
    "\n",
    "lower_threshold = np.float64(0.299)\n",
    "upper_threshold = np.float64(0.301)\n",
    "\n",
    "lower_mask = (original_img >= lower_threshold).astype(np.uint8)\n",
    "upper_mask = (original_img <= upper_threshold).astype(np.uint8)\n",
    "\n",
    "segmented_img, non_segmented_img, binary_mask = segment_image(original_img, lower_threshold, upper_threshold)"
   ]
  },
  {
   "cell_type": "code",
   "execution_count": 9,
   "id": "b3c12707",
   "metadata": {},
   "outputs": [
    {
     "data": {
      "image/png": "[encoded data removed]",
      "text/plain": [
       "<Figure size 640x480 with 2 Axes>"
      ]
     },
     "metadata": {},
     "output_type": "display_data"
    },
    {
     "data": {
      "image/png": "[encoded data removed]",
      "text/plain": [
       "<Figure size 640x480 with 2 Axes>"
      ]
     },
     "metadata": {},
     "output_type": "display_data"
    }
   ],
   "source": [
    "plt.figure()\n",
    "plt.imshow(segmented_img, cmap='gray')\n",
    "plt.title('Ground Truth Segment Image')\n",
    "colorbar = plt.colorbar()\n",
    "\n",
    "plt.figure()\n",
    "plt.imshow(non_segmented_img, cmap='gray')\n",
    "plt.title('Non-Segmented Pixels')\n",
    "colorbar = plt.colorbar()"
   ]
  },
  {
   "cell_type": "code",
   "execution_count": 10,
   "id": "8c37959d",
   "metadata": {},
   "outputs": [],
   "source": [
    "kspace_segmented_img = np.fft.fftshift(np.fft.fft2(segmented_img))\n",
    "kspace_segmented_img_mag = np.log(np.abs(kspace_segmented_img) + 1)\n",
    "kspace_segmented_img_phase = np.angle(kspace_segmented_img)\n",
    "\n",
    "kspace_non_segmented_img = np.fft.fftshift(np.fft.fft2(non_segmented_img))\n",
    "kspace_non_segmented_img_mag = np.log(np.abs(kspace_non_segmented_img) + 1)\n",
    "kspace_non_segmented_img_phase = np.angle(kspace_non_segmented_img)"
   ]
  },
  {
   "cell_type": "markdown",
   "id": "a55cea7b",
   "metadata": {},
   "source": [
    "#### 1.2 Create Phase Modulation Train"
   ]
  },
  {
   "cell_type": "markdown",
   "id": "8c3724b1",
   "metadata": {},
   "source": [
    "The amplitude of oscillation should be a few pixels/voxels to reflect the pulses in the brain stem."
   ]
  },
  {
   "cell_type": "code",
   "execution_count": 11,
   "id": "ebeedc8b",
   "metadata": {},
   "outputs": [],
   "source": [
    "#Parameters\n",
    "TR = 6/1000 #second\n",
    "cardiac_cycle = 0.7 #second\n",
    "phase_oscillation_amplitude = np.pi/8 #range: 0 - pi, the bigger, the more artefacts\n",
    "\n",
    "n_TF = 12 #number of temporal frames that data will be sampled into"
   ]
  },
  {
   "cell_type": "markdown",
   "id": "337ae524",
   "metadata": {},
   "source": [
    "#### 1.3 Create csv file path"
   ]
  },
  {
   "cell_type": "code",
   "execution_count": 12,
   "id": "fe672132",
   "metadata": {},
   "outputs": [],
   "source": [
    "# Define the directory and file name\n",
    "directory = '/Users/ellie/Desktop/FYP/Data'  # Replace with your target directory\n",
    "file_name = 'output_hc' + str(cardiac_cycle) + '.csv' # MSE results file\n",
    "# file_name = 'avg_phase_mod.csv' #phase modulation results file\n",
    "\n",
    "# Ensure the directory exists\n",
    "os.makedirs(directory, exist_ok=True)\n",
    "\n",
    "# Construct the full file path\n",
    "csv_file_path = os.path.join(directory, file_name)\n",
    "\n",
    "# Write the header\n",
    "with open(csv_file_path, mode='w', newline='') as file:\n",
    "    writer = csv.writer(file)\n",
    "    headers = [\"TR spacing\", \"Phase modulation\"]\n",
    "    writer.writerow(headers)"
   ]
  },
  {
   "cell_type": "markdown",
   "id": "841c1f39",
   "metadata": {},
   "source": [
    "#### 1.4 Apply reordered sampling scheme to visualise flow motion artefacts without correction"
   ]
  },
  {
   "cell_type": "code",
   "execution_count": 13,
   "id": "09609204",
   "metadata": {},
   "outputs": [
    {
     "name": "stdout",
     "output_type": "stream",
     "text": [
      "Finished session\n"
     ]
    }
   ],
   "source": [
    "for TR_spacing in range(1, 257):\n",
    "    readout_num = 0 #readout number, starting from zero\n",
    "    \n",
    "    #Initiate k-space arrays\n",
    "    sampled_kspace = np.zeros((256,256,n_TF), dtype=np.complex128)\n",
    "    sampled_kspace_mag = np.zeros((256,256,n_TF))\n",
    "    sampled_kspace_phase = np.zeros((256,256,n_TF))\n",
    "\n",
    "    sampled_kspace_seg = np.zeros((256,256,n_TF), dtype=np.complex128)\n",
    "    sampled_kspace_seg_mag = np.zeros((256, 256, n_TF))\n",
    "    sampled_kspace_seg_phase = np.zeros((256, 256, n_TF))\n",
    "    \n",
    "    phase_modulation_4vis = np.zeros((256, n_TF))\n",
    "    \n",
    "    #Sample data into k-space frames\n",
    "    for frame in range(n_TF):\n",
    "        for row in range(TR_spacing * (np.floor(np.shape(sampled_kspace_seg_phase)[0]/TR_spacing).astype(int) + 1)):\n",
    "            PE_line = np.remainder(readout_num, TR_spacing).astype(int) + TR_spacing * np.floor(readout_num/(TR_spacing * n_TF)).astype(int)\n",
    "            sample_into_frame = np.remainder(np.remainder(readout_num, TR_spacing) + np.floor((readout_num/TR_spacing)).astype(int),n_TF).astype(int)\n",
    "\n",
    "            if PE_line < np.shape(kspace_segmented_img)[0]:\n",
    "                phase_modulation = get_phase_modulation(readout_num, TR, cardiac_cycle, phase_oscillation_amplitude)\n",
    "                phase_modulation_4vis[PE_line, sample_into_frame] = phase_modulation\n",
    "                sampled_kspace[PE_line,:,sample_into_frame] = get_modulated_kspace_line(kspace_segmented_img[PE_line], kspace_non_segmented_img[PE_line] ,phase_modulation)\n",
    "\n",
    "            \n",
    "#             avg_phase_mod = np.mean(phase_modulation_4vis, axis = 1)\n",
    "\n",
    "# ---------temporarily commented---------                \n",
    "                \n",
    "                \n",
    "    #             print('PE line '+ str(PE_line) + ' sampled into frame ' + str(sample_into_frame))\n",
    "\n",
    "    #         else:\n",
    "    #             print('PE line '+ str(PE_line) + ' discarded for frame ' + str(sample_into_frame))\n",
    "\n",
    "            readout_num += 1\n",
    "    \n",
    "    #Initialise image space arrays\n",
    "    sampled_img = np.zeros((256,256,n_TF))\n",
    "    \n",
    "    #Transform k-space data into image space\n",
    "    for frame in range(n_TF):\n",
    "        sampled_img[:,:,frame] = np.abs(np.fft.ifftn(sampled_kspace[:,:,frame]))\n",
    "        sampled_kspace_mag[:,:,frame] = np.log(np.abs(sampled_kspace)[:,:,frame] + 1)\n",
    "        sampled_kspace_phase[:,:,frame] = np.angle(sampled_kspace[:,:,frame])\n",
    "    \n",
    "    #Obtain average k-space and image\n",
    "    avg_kspace = np.mean(sampled_kspace,axis=2)\n",
    "    avg_img = np.abs(np.fft.ifftn(avg_kspace))\n",
    "    \n",
    "    #Obtain mean standard error (MSE) of obtained image compared to original image\n",
    "    mse_map = get_mse(avg_img, original_img)\n",
    "    \n",
    "    #Mask regions beyond region of interest (ROI)\n",
    "    mse_seg_wo_flow = mse_map * (1-binary_mask)\n",
    "    \n",
    "    #Calculate MSE sum across the whole image\n",
    "    MSE_seg_sum = np.sum(mse_seg_wo_flow)\n",
    "    MSE_sum = np.sum(mse_map)\n",
    "    \n",
    "    # ---------temporarily commented---------  \n",
    "    \n",
    "    with open(csv_file_path, mode='a', newline='') as file:\n",
    "        writer = csv.writer(file)\n",
    "        writer.writerow([TR_spacing, MSE_seg_sum, MSE_sum])\n",
    " \n",
    "    # ---------temporarily commented---------  \n",
    "    with open(csv_file_path, mode='a', newline='') as file:\n",
    "        writer = csv.writer(file)\n",
    "#         writer.writerow(np.insert(avg_phase_mod, 0, TR_spacing))\n",
    "    \n",
    "\n",
    "print('Finished session')"
   ]
  }
 ],
 "metadata": {
  "kernelspec": {
   "display_name": "Python 3 (ipykernel)",
   "language": "python",
   "name": "python3"
  },
  "language_info": {
   "codemirror_mode": {
    "name": "ipython",
    "version": 3
   },
   "file_extension": ".py",
   "mimetype": "text/x-python",
   "name": "python",
   "nbconvert_exporter": "python",
   "pygments_lexer": "ipython3",
   "version": "3.11.5"
  }
 },
 "nbformat": 4,
 "nbformat_minor": 5
}
